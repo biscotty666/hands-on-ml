{
 "cells": [
  {
   "cell_type": "markdown",
   "id": "0629d9c5-2aa3-4ce9-9dfb-dd2343836f01",
   "metadata": {},
   "source": [
    "# Dimensionality Reduction"
   ]
  },
  {
   "cell_type": "markdown",
   "id": "986c06db-9a2e-41c0-b42b-a70432cd167c",
   "metadata": {},
   "source": [
    "- to speed training by removing unimportant features\n",
    "- to allow for DataViz\n",
    "- does not always lead to the best or simplest solution, depending on the underlying data"
   ]
  },
  {
   "cell_type": "markdown",
   "id": "fb92161d-dae6-4c89-8f06-26819bef056e",
   "metadata": {},
   "source": [
    "Problems with high dimensions:\n",
    "- Extreme values increase as dimensions increase.\n",
    "- The distance between randomly selected points increases, so training instances tend to be far apart\n",
    "- New instances will be far from the training instances"
   ]
  },
  {
   "cell_type": "markdown",
   "id": "2e717123-70a3-420a-8b5b-7dcab8576c8f",
   "metadata": {},
   "source": [
    "# Approaches for Dimensionality Reduction\n",
    "\n",
    "- Projection - for data that can be projected perpendicularly to a smaller subspace\n",
    "- Manifold learning - for data that is \"twisted\" in a manifold"
   ]
  },
  {
   "cell_type": "markdown",
   "id": "2ddfa976-ab2e-4031-a98d-c29758fd505a",
   "metadata": {},
   "source": [
    "### Projection\n",
    "\n",
    "![](images/projection1.png)\n",
    "![](images/projection2.png)"
   ]
  },
  {
   "cell_type": "markdown",
   "id": "c8098ea8-21b4-45fa-beed-51cb3db0a6a9",
   "metadata": {},
   "source": [
    "## Manifold Learning\n",
    "\n",
    "![](images/manifold1.png)\n",
    "![](images/manifold2.png)\n",
    "![](images/manifold3.png)"
   ]
  },
  {
   "cell_type": "markdown",
   "id": "92790842-a94e-4a07-8b7b-ff1485d26b0e",
   "metadata": {},
   "source": [
    "# PCA \n",
    "\n",
    "Most popular dimensionality reduction algorithm. Identifies the axes with the largest variance.\n",
    "\n",
    "Important to choose the right hyperplane for projection\n",
    "- preserves maximum variance\n",
    "- minimises mean squared distance between original data and projected data"
   ]
  },
  {
   "cell_type": "code",
   "execution_count": null,
   "id": "657a9db5-d264-47e9-9028-16c48588f181",
   "metadata": {},
   "outputs": [],
   "source": []
  },
  {
   "cell_type": "code",
   "execution_count": 19,
   "id": "e14e8004-7116-44fb-b88e-754920bb8d9c",
   "metadata": {},
   "outputs": [],
   "source": [
    "# Python ≥3.5 is required\n",
    "import sys\n",
    "assert sys.version_info >= (3, 5)\n",
    "\n",
    "# Scikit-Learn ≥0.20 is required\n",
    "import sklearn\n",
    "assert sklearn.__version__ >= \"0.20\"\n",
    "\n",
    "# Common imports\n",
    "import numpy as np\n",
    "import os\n",
    "\n",
    "# to make this notebook's output stable across runs\n",
    "np.random.seed(42)\n",
    "\n",
    "# To plot pretty figures\n",
    "%matplotlib inline\n",
    "import matplotlib as mpl\n",
    "import matplotlib.pyplot as plt\n",
    "mpl.rc('axes', labelsize=14)\n",
    "mpl.rc('xtick', labelsize=12)\n",
    "mpl.rc('ytick', labelsize=12)\n",
    "\n",
    "# Where to save the figures\n",
    "PROJECT_ROOT_DIR = \".\"\n",
    "CHAPTER_ID = \"dim_reduction\"\n",
    "IMAGES_PATH = os.path.join(PROJECT_ROOT_DIR, \"images\", CHAPTER_ID)\n",
    "os.makedirs(IMAGES_PATH, exist_ok=True)\n",
    "\n",
    "def save_fig(fig_id, tight_layout=True, fig_extension=\"png\", resolution=300):\n",
    "    path = os.path.join(IMAGES_PATH, fig_id + \".\" + fig_extension)\n",
    "    print(\"Saving figure\", fig_id)\n",
    "    if tight_layout:\n",
    "        plt.tight_layout()\n",
    "    plt.savefig(path, format=fig_extension, dpi=resolution)"
   ]
  },
  {
   "cell_type": "markdown",
   "id": "39fa2290-957a-4de2-bc95-400fb1bdd63a",
   "metadata": {},
   "source": [
    "__A 3D Dataset__"
   ]
  },
  {
   "cell_type": "code",
   "execution_count": 20,
   "id": "2e06c87a-5156-4e54-bff3-969b4f9d3bf4",
   "metadata": {},
   "outputs": [],
   "source": [
    "np.random.seed(4)\n",
    "m = 60\n",
    "w1, w2 = 0.1, 0.3\n",
    "noise = 0.1\n",
    "\n",
    "angles = np.random.rand(m) * 3 * np.pi / 2 - 0.5\n",
    "X = np.empty((m, 3))\n",
    "X[:, 0] = np.cos(angles) + np.sin(angles)/2 + noise * np.random.randn(m) / 2\n",
    "X[:, 1] = np.sin(angles) * 0.7 + noise * np.random.randn(m) / 2\n",
    "X[:, 2] = X[:, 0] * w1 + X[:, 1] * w2 + noise * np.random.randn(m)"
   ]
  },
  {
   "cell_type": "markdown",
   "id": "548b1d05-49de-4021-8ad2-fa1d60393097",
   "metadata": {},
   "source": [
    "# Principal Components\n",
    "\n",
    "`np.linalg.svd()` - Singular Value Decomposition\n",
    "\n",
    "Doing it \"manually\".\n",
    "\n",
    "The following extracts the two unit vectors that define the first two PCs."
   ]
  },
  {
   "cell_type": "code",
   "execution_count": 21,
   "id": "5bb6e196-7892-4b25-9fab-b9a7b06103a0",
   "metadata": {},
   "outputs": [],
   "source": [
    "X_centered = X - X.mean(axis=0)\n",
    "U, s, Vt = np.linalg.svd(X_centered)\n",
    "c1 = Vt.T[:, 0]\n",
    "c2 = Vt.T[:, 1]\n",
    "m, n = X.shape"
   ]
  },
  {
   "cell_type": "code",
   "execution_count": 22,
   "id": "53830ccf-da63-41ce-ad3d-94eeaa5f2554",
   "metadata": {},
   "outputs": [],
   "source": [
    "S = np.zeros(X_centered.shape)\n",
    "S[:n, :n] = np.diag(s)"
   ]
  },
  {
   "cell_type": "code",
   "execution_count": 23,
   "id": "35beebd8-f790-4542-ae07-52a722b8f632",
   "metadata": {},
   "outputs": [
    {
     "data": {
      "text/plain": [
       "True"
      ]
     },
     "execution_count": 23,
     "metadata": {},
     "output_type": "execute_result"
    }
   ],
   "source": [
    "np.allclose(X_centered, U.dot(S).dot(Vt))"
   ]
  },
  {
   "cell_type": "markdown",
   "id": "56e7e5ad-09ae-4027-b2d5-128c713c064c",
   "metadata": {},
   "source": [
    "Projecting down to the plane defined by the first two principle components"
   ]
  },
  {
   "cell_type": "code",
   "execution_count": 31,
   "id": "beb3fad8-2420-4a0e-8bba-2e559bfc021d",
   "metadata": {},
   "outputs": [],
   "source": [
    "W2 = Vt.T[:, :2]\n",
    "X2D = X_centered.dot(W2)\n",
    "X2D_using_svd = X2D"
   ]
  },
  {
   "cell_type": "markdown",
   "id": "e98c96b1-d34e-4fc0-a3a3-0293f9f5f626",
   "metadata": {},
   "source": [
    "With Scikit-Learn"
   ]
  },
  {
   "cell_type": "code",
   "execution_count": 32,
   "id": "4b5feb19-8d8f-43a5-9e63-1cfa2a0037bb",
   "metadata": {},
   "outputs": [],
   "source": [
    "from sklearn.decomposition import PCA\n",
    "\n",
    "pca = PCA(n_components=2)\n",
    "X2D = pca.fit_transform(X)"
   ]
  },
  {
   "cell_type": "markdown",
   "id": "a0fa8eec-d78b-499a-9ede-c1e1dc15a9bf",
   "metadata": {},
   "source": [
    "The `components_` attribute holds the transpose of $W_d$, so the unit vector with the first principal component is `pca.components_.T[:, 0]`."
   ]
  },
  {
   "cell_type": "code",
   "execution_count": 33,
   "id": "061e4157-4750-4e13-a670-2b70fa6c9c2c",
   "metadata": {},
   "outputs": [
    {
     "data": {
      "text/plain": [
       "array([[-1.26203346, -0.42067648],\n",
       "       [ 0.08001485,  0.35272239],\n",
       "       [-1.17545763, -0.36085729],\n",
       "       [-0.89305601,  0.30862856],\n",
       "       [-0.73016287,  0.25404049]])"
      ]
     },
     "execution_count": 33,
     "metadata": {},
     "output_type": "execute_result"
    }
   ],
   "source": [
    "X2D[:5]"
   ]
  },
  {
   "cell_type": "code",
   "execution_count": 34,
   "id": "41c307d3-89f2-47da-9e60-0a2a17f9b8a8",
   "metadata": {},
   "outputs": [
    {
     "data": {
      "text/plain": [
       "array([[-1.26203346, -0.42067648],\n",
       "       [ 0.08001485,  0.35272239],\n",
       "       [-1.17545763, -0.36085729],\n",
       "       [-0.89305601,  0.30862856],\n",
       "       [-0.73016287,  0.25404049]])"
      ]
     },
     "execution_count": 34,
     "metadata": {},
     "output_type": "execute_result"
    }
   ],
   "source": [
    "X2D_using_svd[:5]"
   ]
  },
  {
   "cell_type": "code",
   "execution_count": 38,
   "id": "223d2347-1274-4dd0-8de1-9aac1533ad5d",
   "metadata": {},
   "outputs": [
    {
     "data": {
      "text/plain": [
       "True"
      ]
     },
     "execution_count": 38,
     "metadata": {},
     "output_type": "execute_result"
    }
   ],
   "source": [
    "np.allclose(X2D, X2D_using_svd)"
   ]
  },
  {
   "cell_type": "markdown",
   "id": "c81c9f20-a8fc-4260-8db2-047d097f473d",
   "metadata": {},
   "source": [
    "Recover the 3D points"
   ]
  },
  {
   "cell_type": "code",
   "execution_count": 39,
   "id": "d09b3664-3672-4a76-a08b-63f28821204b",
   "metadata": {},
   "outputs": [],
   "source": [
    "X3D_inv = pca.inverse_transform(X2D)"
   ]
  },
  {
   "cell_type": "code",
   "execution_count": 40,
   "id": "42668ace-d6c6-4254-bf59-714e368627d3",
   "metadata": {},
   "outputs": [
    {
     "data": {
      "text/plain": [
       "False"
      ]
     },
     "execution_count": 40,
     "metadata": {},
     "output_type": "execute_result"
    }
   ],
   "source": [
    "np.allclose(X3D_inv, X)"
   ]
  },
  {
   "cell_type": "code",
   "execution_count": null,
   "id": "4f044a92-b761-4590-a63f-e4d91480a971",
   "metadata": {},
   "outputs": [],
   "source": []
  },
  {
   "cell_type": "code",
   "execution_count": null,
   "id": "72f707d2-d90b-4b8e-9225-1a26227316b5",
   "metadata": {},
   "outputs": [],
   "source": []
  },
  {
   "cell_type": "markdown",
   "id": "426cfb9f-f711-4e33-a2ad-3c13381a1dd5",
   "metadata": {},
   "source": [
    "## Explained Variance Ratioabs\n",
    "\n",
    "The proportion of the dataset's variance that lies along each principle component."
   ]
  },
  {
   "cell_type": "code",
   "execution_count": 10,
   "id": "0f5c0123-e023-4ca1-b6b9-f5c8d8a25830",
   "metadata": {},
   "outputs": [
    {
     "data": {
      "text/plain": [
       "array([0.84248607, 0.14631839])"
      ]
     },
     "execution_count": 10,
     "metadata": {},
     "output_type": "execute_result"
    }
   ],
   "source": [
    "pca.explained_variance_ratio_"
   ]
  },
  {
   "cell_type": "code",
   "execution_count": 12,
   "id": "ab2e11cc-4b00-424b-ba5d-fc6845ef0fc3",
   "metadata": {},
   "outputs": [
    {
     "data": {
      "text/plain": [
       "0.010342716399506999"
      ]
     },
     "execution_count": 12,
     "metadata": {},
     "output_type": "execute_result"
    }
   ],
   "source": [
    "pca.noise_variance_"
   ]
  },
  {
   "cell_type": "markdown",
   "id": "813edaf4-d5e0-4aec-9338-9c5eff07e60c",
   "metadata": {},
   "source": [
    "## Automatically choosing number of dimensions\n",
    "\n",
    "Compute minimum dimensions to preserve 95% of the variance:"
   ]
  },
  {
   "cell_type": "code",
   "execution_count": 13,
   "id": "edf036f8-8403-439b-b5e9-8f4b43874de2",
   "metadata": {},
   "outputs": [],
   "source": [
    "from sklearn.datasets import fetch_openml\n",
    "\n",
    "mnist = fetch_openml('mnist_784', version=1, as_frame=False)\n",
    "mnist.target = mnist.target.astype(np.uint8)\n",
    "from sklearn.model_selection import train_test_split\n",
    "\n",
    "X = mnist[\"data\"]\n",
    "y = mnist[\"target\"]\n",
    "\n",
    "X_train, X_test, y_train, y_test = train_test_split(X, y)"
   ]
  },
  {
   "cell_type": "code",
   "execution_count": 14,
   "id": "b20d8119-0816-4413-99bf-e07cb2355921",
   "metadata": {},
   "outputs": [],
   "source": [
    "pca = PCA()\n",
    "pca.fit(X_train)\n",
    "cumsum = np.cumsum(pca.explained_variance_ratio_)\n",
    "d = np.argmax(cumsum >= 0.95) + 1"
   ]
  },
  {
   "cell_type": "code",
   "execution_count": 15,
   "id": "73ff2ff0-1035-4f24-ab76-7fa233d5e7fd",
   "metadata": {},
   "outputs": [
    {
     "data": {
      "text/plain": [
       "154"
      ]
     },
     "execution_count": 15,
     "metadata": {},
     "output_type": "execute_result"
    }
   ],
   "source": [
    "d"
   ]
  },
  {
   "cell_type": "code",
   "execution_count": null,
   "id": "ff9a90b5-292c-4d87-8d01-5461edec5e43",
   "metadata": {},
   "outputs": [],
   "source": []
  }
 ],
 "metadata": {
  "kernelspec": {
   "display_name": "Python 3 (ipykernel)",
   "language": "python",
   "name": "python3"
  },
  "language_info": {
   "codemirror_mode": {
    "name": "ipython",
    "version": 3
   },
   "file_extension": ".py",
   "mimetype": "text/x-python",
   "name": "python",
   "nbconvert_exporter": "python",
   "pygments_lexer": "ipython3",
   "version": "3.12.7"
  }
 },
 "nbformat": 4,
 "nbformat_minor": 5
}
